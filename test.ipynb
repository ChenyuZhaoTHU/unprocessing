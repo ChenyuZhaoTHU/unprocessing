{
 "cells": [
  {
   "cell_type": "code",
   "execution_count": null,
   "metadata": {},
   "outputs": [
    {
     "ename": "",
     "evalue": "",
     "output_type": "error",
     "traceback": [
      "\u001b[1;31mRunning cells with 'unprocessing' requires ipykernel package.\n",
      "\u001b[1;31mRun the following command to install 'ipykernel' into the Python environment. \n",
      "\u001b[1;31mCommand: 'conda install -n unprocessing ipykernel --update-deps --force-reinstall'"
     ]
    }
   ],
   "source": [
    "import unprocess\n",
    "import matplotlib.pyplot as plt\n",
    "from PIL import  Image\n",
    "import numpy as np\n",
    "import tensorflow as tf\n",
    "\n",
    "import matplotlib.image as mpimg\n",
    "\n",
    "\n",
    "# rgb = mpimg.imread(\"C:/Users/纸/Downloads/unprocessing/1.jpg\")\n",
    "rgb = np.array(Image.open('1.jpg',).convert('RGB'))    # 打开图片转换为numpy数组\n",
    "\n",
    "\n",
    "print(type(rgb))\n",
    "rgb = tf.convert_to_tensor(rgb, dtype = tf.float32)\n",
    "print(type(rgb))\n",
    "image,ddd = unprocess.unprocess(rgb)\n",
    "\n",
    "array = tf.Session().run(image)\n",
    "\n",
    "print(type(array))\n",
    "plt.imshow(array)\n",
    "plt.show()\n",
    "\n"
   ]
  }
 ],
 "metadata": {
  "kernelspec": {
   "display_name": "unprocessing",
   "language": "python",
   "name": "python3"
  },
  "language_info": {
   "codemirror_mode": {
    "name": "ipython",
    "version": 3
   },
   "file_extension": ".py",
   "mimetype": "text/x-python",
   "name": "python",
   "nbconvert_exporter": "python",
   "pygments_lexer": "ipython3",
   "version": "3.7.15 (default, Nov 24 2022, 18:44:54) [MSC v.1916 64 bit (AMD64)]"
  },
  "orig_nbformat": 4,
  "vscode": {
   "interpreter": {
    "hash": "00b37294c33acf315f4d32a0261acbc655e30b89ac5af19d8f85f6feec367758"
   }
  }
 },
 "nbformat": 4,
 "nbformat_minor": 2
}
